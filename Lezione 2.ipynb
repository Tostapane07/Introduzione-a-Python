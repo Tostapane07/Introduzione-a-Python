{
 "cells": [
  {
   "cell_type": "code",
   "execution_count": 7,
   "id": "f02e3165",
   "metadata": {},
   "outputs": [
    {
     "name": "stdout",
     "output_type": "stream",
     "text": [
      "Inserisci un numero intero positivo N: 7\n",
      "La somma dei primi 7 numeri pari è 56\n"
     ]
    }
   ],
   "source": [
    "#Chiedere all'utente un numero intero positivo N\n",
    "N=int(input(\"Inserisci un numero intero positivo N: \"))\n",
    "#Inizializzare la somma da 0\n",
    "somma=0\n",
    "\n",
    "#Calcolare la somma dei primi N numeri pari\n",
    "for numero in range(2, 2*N+1, 2): #Il terzo termine è il passo\n",
    "    somma+=numero\n",
    "print(f\"La somma dei primi {N} numeri pari è {somma}\")"
   ]
  },
  {
   "cell_type": "code",
   "execution_count": null,
   "id": "8e577bed",
   "metadata": {},
   "outputs": [],
   "source": [
    "#Chiedere all'utente un numero intero positivo N\n",
    "N=int(input(\"Inserisci un numero intero positivo N: \"))\n",
    "lista=[]\n",
    "#Calcolare la somma dei primi N numeri pari\n",
    "for numero in range(2, 2*N+1, 2): #Il terzo termine è il passo\n",
    "    lista.append(numero)\n",
    "print(lista)"
   ]
  },
  {
   "cell_type": "code",
   "execution_count": 3,
   "id": "051bcc99",
   "metadata": {},
   "outputs": [
    {
     "name": "stdout",
     "output_type": "stream",
     "text": [
      "Inserisci una frase o una parola: Helo, come va?\n",
      "Nella frase inserita ci sono 5 vocali\n"
     ]
    }
   ],
   "source": [
    "#Chiedi all'utente una frase o una parola\n",
    "frase=input(\"Inserisci una frase o una parola: \").lower() #Converte tutte le lettere in minuscolo\n",
    "\n",
    "#Inizia il contatore delle vocali\n",
    "conteggio_vocali=0\n",
    "\n",
    "#Definisci le vocali da cercare\n",
    "vocali=\"aeiou\"\n",
    "\n",
    "#Scansiona ogni carattere nella frase\n",
    "for carattere in frase:\n",
    "    #Verifica se il carattere è una vocale\n",
    "    if carattere in vocali:\n",
    "        conteggio_vocali+=1\n",
    "#Stampa il conteggio delle vocali\n",
    "print(f\"Nella frase inserita ci sono {conteggio_vocali} vocali\")"
   ]
  },
  {
   "cell_type": "code",
   "execution_count": 9,
   "id": "b989e65e",
   "metadata": {},
   "outputs": [
    {
     "name": "stdout",
     "output_type": "stream",
     "text": [
      "Indoina il nummero del dado (da 1 a 6): 8\n",
      "Numero non ammesso\n"
     ]
    }
   ],
   "source": [
    "import random\n",
    "#Genera un numero casuale da 1 a 6 (simulando il lancio di un dado)\n",
    "numero_dado=random.randint(1,6)\n",
    "\n",
    "#Chiedi all'utente di indovinare il numero\n",
    "indovina=int(input(\"Indoina il nummero del dado (da 1 a 6): \"))\n",
    "\n",
    "#Verifica se l'utente ha indovinato correttamente\n",
    "if indovina<1 or indovina>6:\n",
    "    print(\"Numero non ammesso\")\n",
    "elif indovina==numero_dado:\n",
    "    print(f\"Complimenti! Il numero del dado era {numero_dado}. Hai indovinato!\")\n",
    "else:\n",
    "    print(f\"Mi dispiace, il numero del dado era {numero_dado}. Meglio fortuna alla prossima!\")"
   ]
  },
  {
   "cell_type": "code",
   "execution_count": 10,
   "id": "c2c7ccae",
   "metadata": {},
   "outputs": [
    {
     "name": "stdout",
     "output_type": "stream",
     "text": [
      "Inserire la popolazione iniziale: 2000\n",
      "Inserire il numero degli anni da simulare: 2\n",
      "Inserisci il tasso di natalità: 1.3\n",
      "Inserisci il tasso di mortalità: 3.2\n",
      "Anno 2: popolazione=1620\n",
      "Simulazione completata\n"
     ]
    }
   ],
   "source": [
    "#Inizializza la popolazione e gli anni\n",
    "popolazione=int(input(\"Inserire la popolazione iniziale: \"))\n",
    "anni=int(input(\"Inserire il numero degli anni da simulare: \"))\n",
    "#Tasso di natalità e di mortalità (percentuale annua)\n",
    "tasso_natalità=float(input(\"Inserisci il tasso di natalità: \"))\n",
    "tasso_mortalità=float(input(\"Inserisci il tasso di mortalità: \"))\n",
    "\n",
    "#Simulazione della crescita della popolazione\n",
    "for anno in range(anni):\n",
    "    nascite=(popolazione*tasso_natalità)\n",
    "    morti=(popolazione*tasso_mortalità)\n",
    "    popolazione+=(nascite-morti)\n",
    "print(f\"Anno {anno+1}: popolazione={int(popolazione)}\")\n",
    "print(\"Simulazione completata\")"
   ]
  },
  {
   "cell_type": "code",
   "execution_count": 2,
   "id": "883f2a91",
   "metadata": {},
   "outputs": [
    {
     "name": "stdout",
     "output_type": "stream",
     "text": [
      "Oggi è il giorno: 05 10 2023 ore: 08 09 25\n"
     ]
    }
   ],
   "source": [
    "import datetime\n",
    "today=datetime.datetime.today()\n",
    "print(f\"Oggi è il giorno: {today:%d %m %Y} ore: {today:%H %M %S}\")"
   ]
  },
  {
   "cell_type": "code",
   "execution_count": 23,
   "id": "9459483d",
   "metadata": {},
   "outputs": [
    {
     "name": "stdout",
     "output_type": "stream",
     "text": [
      "Benvenuto nel convertitore di unità di misura\n",
      "Cosa desideri convertire? (metri, piedi, chilogrammi, libbre)chilogrammi\n",
      "Inserisci il valore in chilogrammi: 20\n",
      "20.0 chilogrammi corrispondono a 44.0924 chilogrammi.\n"
     ]
    }
   ],
   "source": [
    "print(\"Benvenuto nel convertitore di unità di misura\")\n",
    "scelta=input(\"Cosa desideri convertire? (metri, piedi, chilogrammi, libbre)\")\n",
    "\n",
    "if scelta==\"metri\":\n",
    "    valore=float(input(\"Inserisci il valore in metri: \"))\n",
    "    risultato=valore*3.28084 #Valore di conversione\n",
    "    print(f\"{valore} metri corrispondono a {risultato} piedi.\")\n",
    "elif scelta==\"piedi\":\n",
    "    valore=float(input(\"Inserisci il valore in piedi: \"))\n",
    "    risultato=valore/3.28084 #Valore di conversione\n",
    "    print(f\"{valore} piedi corrispondono a {risultato} metri.\")\n",
    "elif scelta==\"chilogrammi\":\n",
    "    valore=float(input(\"Inserisci il valore in chilogrammi: \"))\n",
    "    risultato=valore*2.20462 #Valore di conversione\n",
    "    print(f\"{valore} chilogrammi corrispondono a {risultato} libbe.\")\n",
    "elif scelta==\"libbre\":\n",
    "    valore=float(input(\"Inserisci il valore in libbre: \"))\n",
    "    risultato=valore/2.20462 #Valore di conversione\n",
    "    print(f\"{valore} libbre corrispondono a {risultato} chilogrammi.\")\n",
    "else:\n",
    "    print(\"Scelta non valida. Scegli tra 'metri', 'piedi', 'chilogrammi' o 'libbre'\")"
   ]
  },
  {
   "cell_type": "code",
   "execution_count": 2,
   "id": "76814230",
   "metadata": {},
   "outputs": [
    {
     "name": "stdout",
     "output_type": "stream",
     "text": [
      "Inserisci un numero n per calcolare l'n-esimo numero di Fibonacci: 2\n",
      "L'n-esimo numero di Fibonacci è: 2\n"
     ]
    }
   ],
   "source": [
    "n=int(input(\"Inserisci un numero n per calcolare l'n-esimo numero di Fibonacci: \"))\n",
    "#Inizializzare le variabili per i primi due numeri di Fibonacci\n",
    "a=0\n",
    "b=1\n",
    "c=1\n",
    "#Calcolare l'n-esimo numero di Fibonacci\n",
    "if n<=0:\n",
    "    print(\"Il numero dev'essere maggiore di zero.\")\n",
    "elif n==1:\n",
    "    risultato=a\n",
    "else:\n",
    "    for interazione in range(n-3): #Perché abbiamo messo 3 numeri di inizazione\n",
    "        a=b\n",
    "        b=c\n",
    "        c=a+b\n",
    "        risultato=c\n",
    "#Stampare l'n-esimo numero di Fibonacci\n",
    "print(\"L'n-esimo numero di Fibonacci è:\", risultato)"
   ]
  },
  {
   "cell_type": "markdown",
   "id": "1a1aa3a3",
   "metadata": {},
   "source": [
    "# Funzioni custom"
   ]
  },
  {
   "cell_type": "code",
   "execution_count": 2,
   "id": "f42a809a",
   "metadata": {},
   "outputs": [],
   "source": [
    "def fibonacci(n):\n",
    "    fib_series=[0, 1]\n",
    "    \n",
    "    while len(fib_series) < n:\n",
    "        fib_series.append(fib_series[-1]+fib_series[-2])\n",
    "    return fib_series"
   ]
  },
  {
   "cell_type": "code",
   "execution_count": 3,
   "id": "51097841",
   "metadata": {},
   "outputs": [
    {
     "data": {
      "text/plain": [
       "[0, 1, 1, 2, 3, 5, 8, 13, 21, 34]"
      ]
     },
     "execution_count": 3,
     "metadata": {},
     "output_type": "execute_result"
    }
   ],
   "source": [
    "fibonacci(10)"
   ]
  },
  {
   "cell_type": "code",
   "execution_count": 12,
   "id": "0ec2b59d",
   "metadata": {},
   "outputs": [],
   "source": [
    "import math\n",
    "\n",
    "def calcola_area_cerchio(raggio):\n",
    "    return math.pi*(raggio**2)\n",
    "def calcola_area_rettangolo(base, altezza):\n",
    "    return (base*altezza)\n",
    "def calcola_area_triangolo(base, altezza):\n",
    "    return (base*altezza)/2"
   ]
  },
  {
   "cell_type": "code",
   "execution_count": 19,
   "id": "91bb37b8",
   "metadata": {},
   "outputs": [
    {
     "name": "stdout",
     "output_type": "stream",
     "text": [
      "Benvenuto nella Calcolatrice di Aree!\n",
      "Vuoi calcolare l'area di un cerchio (c), rettangolo (r), triangolo(t)? t\n",
      "inserisci la base del triangolo: 4\n",
      "inserisci l'altezza del triangolo: 4\n",
      "L'area del triangolo e  8.00\n"
     ]
    }
   ],
   "source": [
    "print(\"Benvenuto nella Calcolatrice di Aree!\")\n",
    "scelta = input(\"Vuoi calcolare l'area di un cerchio (c), rettangolo (r), triangolo(t)? \").lower()\n",
    "if scelta == 'c':\n",
    "    raggio=float(input(\"inserisci il raggio del cerchio: \"))\n",
    "    area=calcola_area_cerchio(raggio)\n",
    "    print(f\"L'area del cherchio e {area: .2f}\")\n",
    "elif scelta == 'r':\n",
    "    base= float(input(\"inserisci la base del rettangolo: \"))\n",
    "    altezza= float(input(\"inserisci l'altezza del rettangolo: \"))\n",
    "    area = calcola_area_rettangolo(base, altezza)\n",
    "    print(f\"L'area del rettangolo e {area: .2f}\")\n",
    "elif scelta == 't':\n",
    "    base= float(input(\"inserisci la base del triangolo: \"))\n",
    "    altezza= float(input(\"inserisci l'altezza del triangolo: \"))\n",
    "    area = calcola_area_triangolo(base, altezza)\n",
    "    print(f\"L'area del triangolo e {area: .2f}\")\n",
    "else:\n",
    "    print(f\"Scelta non valida. si prega di inserire 'c', 'r' o 't'.\")"
   ]
  },
  {
   "cell_type": "code",
   "execution_count": 21,
   "id": "daeea329",
   "metadata": {},
   "outputs": [],
   "source": [
    "def calcola_interessi(importo_iniziale, tasso_interesse, periodi_investimento):\n",
    "    importo_finale=importo_iniziale*(1+tasso_interesse/100)**periodi_investimento\n",
    "    return importo_finale"
   ]
  },
  {
   "cell_type": "code",
   "execution_count": 22,
   "id": "738bf430",
   "metadata": {},
   "outputs": [
    {
     "name": "stdout",
     "output_type": "stream",
     "text": [
      "Benvenuto nel calcolatore di interessi\n",
      "Inserisci l'importo iniziale: 20\n",
      "Inserisci il tasso di interesse annuale (%): 3\n",
      "Inserisci il periodo di investimento (anni): 12\n",
      "L'importo finale dopo 12.0 anni è di 28.52 euro\n"
     ]
    }
   ],
   "source": [
    "print(\"Benvenuto nel calcolatore di interessi\")\n",
    "\n",
    "importo=float(input(\"Inserisci l'importo iniziale: \"))\n",
    "tasso=float(input(\"Inserisci il tasso di interesse annuale (%): \"))\n",
    "periodo=float(input(\"Inserisci il periodo di investimento (anni): \"))\n",
    "\n",
    "importo_finale=calcola_interessi(importo, tasso, periodo)\n",
    "print(f\"L'importo finale dopo {periodo} anni è di {importo_finale:.2f} euro\") "
   ]
  },
  {
   "cell_type": "code",
   "execution_count": null,
   "id": "984a062d",
   "metadata": {},
   "outputs": [],
   "source": [
    "def forza_gravitazionale(m1, m2, r):\n",
    "    #Costante gravitazionale\n",
    "    G=6.67430e-11 #N(m/kg)^2\n",
    "    \n",
    "    #Calcola la forza gravitazionale\n",
    "    F=(G*m1*m2)/(r**2)\n",
    "    \n",
    "    return F"
   ]
  },
  {
   "cell_type": "code",
   "execution_count": null,
   "id": "9734032e",
   "metadata": {},
   "outputs": [],
   "source": [
    "#Esempio di utilizzo\n",
    "massa_terra=5.972e24 #kg\n",
    "massa_luna=7.342e22 #kg\n",
    "distanza_terra_luna=384400000 #metri\n",
    "\n",
    "forza=forza_gravitazionale(massa_terra, massa_luna, distanza_terra_luna)\n",
    "print(f\"Forza gravitazionale tra la Terra e la Luna: {forza} Newton\")"
   ]
  },
  {
   "cell_type": "code",
   "execution_count": 2,
   "id": "8e8f05c9",
   "metadata": {},
   "outputs": [],
   "source": [
    "from itertools import permutations\n",
    "k=0\n",
    "def trova_anagrammi(parola):\n",
    "    anagrammi=[\"\".join(p) for p in permutations(parola)]\n",
    "    return anagrammi"
   ]
  },
  {
   "cell_type": "code",
   "execution_count": 3,
   "id": "f58efd29",
   "metadata": {},
   "outputs": [
    {
     "name": "stdout",
     "output_type": "stream",
     "text": [
      "Benvenuto nel risolutore di anagrammi!\n",
      "Inserisci una parola: ci\n",
      "ic\n",
      "Gli anagrammi di 'ci' sono:'1'\n"
     ]
    }
   ],
   "source": [
    "print(\"Benvenuto nel risolutore di anagrammi!\")\n",
    "parola_input=input(\"Inserisci una parola: \").strip().lower()\n",
    "if len(parola_input)<2: #len=lunghezza della parola\n",
    "    print(\"Inserisci una parola con almeno 2 caratteri.\")\n",
    "else:\n",
    "    anagrammi=trova_anagrammi(parola_input)\n",
    "    for elemento in anagrammi:\n",
    "        if elemento!=parola_input:\n",
    "            k+=1\n",
    "            print(elemento)\n",
    "    print(f\"Gli anagrammi di '{parola_input}' sono:'{k}'\")"
   ]
  },
  {
   "cell_type": "code",
   "execution_count": null,
   "id": "f78e6fba",
   "metadata": {},
   "outputs": [],
   "source": [
    "#Dizionari"
   ]
  },
  {
   "cell_type": "code",
   "execution_count": 3,
   "id": "511eaf8f",
   "metadata": {},
   "outputs": [
    {
     "name": "stdout",
     "output_type": "stream",
     "text": [
      "Inserisci l'importo da convertire: 40\n",
      "Inserisci la valuta di partenza: euro\n",
      "Inserisci la valuta di destinazione: yen\n",
      "40.0 euro sono equivalenti a 5195.76 yen\n"
     ]
    }
   ],
   "source": [
    "#Definizione dei tassi di cambio\n",
    "\n",
    "tassi_di_cambio={\n",
    "    \"dollari\": 1.0,\n",
    "    \"euro\": 0.85,\n",
    "    \"yen\": 110.41,\n",
    "    #Aggiungi altre valute di cambio se necessario\n",
    "}\n",
    "\n",
    "#Chiedi all'utente di inserire l'importo, la valuta di partenza e la valuta di destinazione\n",
    "importo=float(input(\"Inserisci l'importo da convertire: \"))\n",
    "valuta_di_partenza=input(\"Inserisci la valuta di partenza: \").lower()\n",
    "valuta_destinazione=input(\"Inserisci la valuta di destinazione: \").lower()\n",
    "\n",
    "#Verifica se le valute sono nel dizionario dei tassi di cambio\n",
    "if valuta_di_partenza in tassi_di_cambio and valuta_destinazione in tassi_di_cambio:\n",
    "    #Calcola il tasso di cambio e l'importo convertito\n",
    "    tasso_di_cambio=tassi_di_cambio[valuta_destinazione]/tassi_di_cambio[valuta_di_partenza]\n",
    "    importo_convertito=importo*tasso_di_cambio\n",
    "    \n",
    "    #Stampa il risultato\n",
    "    print(f\"{importo} {valuta_di_partenza} sono equivalenti a {importo_convertito:.2f} {valuta_destinazione}\")  #.2f=cifre significative\n",
    "else:\n",
    "    print(\"Valute non supportate. Assicurati di inserire valute valide.\")"
   ]
  },
  {
   "cell_type": "code",
   "execution_count": null,
   "id": "ebf050e6",
   "metadata": {},
   "outputs": [],
   "source": [
    "tassi_di_cambio[\"euro\"]"
   ]
  },
  {
   "cell_type": "code",
   "execution_count": 3,
   "id": "cd1dbb5c",
   "metadata": {},
   "outputs": [
    {
     "name": "stdout",
     "output_type": "stream",
     "text": [
      "Inserisci una frase: Ciao mi chiamo Davide\n",
      "a: 3\n",
      "c: 2\n",
      "d: 2\n",
      "e: 1\n",
      "h: 1\n",
      "i: 4\n",
      "m: 2\n",
      "o: 2\n",
      "v: 1\n"
     ]
    }
   ],
   "source": [
    "#Chiedi all'utente di inserire una frase\n",
    "frase=input(\"Inserisci una frase: \")\n",
    "\n",
    "#Converti in minuscolo per evitare problemi di maiuscole/minuscole\n",
    "frase=frase.lower()\n",
    "\n",
    "#Inizializza un dizionario per tenere traccia del conteggio delle lettere\n",
    "alfabeto='abcdefghijklmnopqrstuvwxyz'\n",
    "\n",
    "#Inizializza un dizionario per tenere tracciaa del conteggio delle lettere\n",
    "conteggio_lettere={}\n",
    "\n",
    "#Itera attraverso ciascuna lettera dell'alfabeto\n",
    "for lettera in alfabeto:\n",
    "    #Conta quante volte appare la lettera nella frase\n",
    "    conteggio=frase.count(lettera)\n",
    "    \n",
    "#Aggiungi la lettera e il conteggio al dizionario se la lettera appare\n",
    "    if conteggio>0:\n",
    "        conteggio_lettere[lettera]=conteggio\n",
    "    \n",
    "#Stampa il conteggio delle lettere in un formato leggibile\n",
    "for lettera, conteggio in conteggio_lettere.items():\n",
    "    print(f\"{lettera}: {conteggio}\")"
   ]
  },
  {
   "cell_type": "code",
   "execution_count": 4,
   "id": "4bb1e2a0",
   "metadata": {},
   "outputs": [
    {
     "data": {
      "text/plain": [
       "dict_items([('a', 3), ('c', 2), ('d', 2), ('e', 1), ('h', 1), ('i', 4), ('m', 2), ('o', 2), ('v', 1)])"
      ]
     },
     "execution_count": 4,
     "metadata": {},
     "output_type": "execute_result"
    }
   ],
   "source": [
    "conteggio_lettere.items()"
   ]
  },
  {
   "cell_type": "code",
   "execution_count": 5,
   "id": "3423a8f1",
   "metadata": {},
   "outputs": [],
   "source": [
    "prodotti={}\n",
    "prodotti[\"Pan bauletto\"]=2\n",
    "prodotti[\"Coca cola\"]=3"
   ]
  },
  {
   "cell_type": "code",
   "execution_count": 6,
   "id": "a2d1ac5d",
   "metadata": {},
   "outputs": [
    {
     "data": {
      "text/plain": [
       "{'Pan bauletto': 2, 'Coca cola': 3}"
      ]
     },
     "execution_count": 6,
     "metadata": {},
     "output_type": "execute_result"
    }
   ],
   "source": [
    "prodotti"
   ]
  },
  {
   "cell_type": "code",
   "execution_count": 8,
   "id": "e9bffeca",
   "metadata": {},
   "outputs": [],
   "source": [
    "prodottidue={\n",
    "    \"Pan bauletto\":2,\n",
    "    \"Coca cola\":3\n",
    "}"
   ]
  },
  {
   "cell_type": "code",
   "execution_count": 9,
   "id": "a522cb2c",
   "metadata": {},
   "outputs": [
    {
     "data": {
      "text/plain": [
       "{'Pan bauletto': 2, 'Coca cola': 3}"
      ]
     },
     "execution_count": 9,
     "metadata": {},
     "output_type": "execute_result"
    }
   ],
   "source": [
    "prodottidue"
   ]
  },
  {
   "cell_type": "code",
   "execution_count": 3,
   "id": "7825c576",
   "metadata": {},
   "outputs": [
    {
     "name": "stdout",
     "output_type": "stream",
     "text": [
      "Sei stato gnomato\n"
     ]
    }
   ],
   "source": [
    "def gnomo():\n",
    "    print(\"Sei stato gnomato\")\n",
    "    \n",
    "if __name__ == \"__main__\":\n",
    "\n",
    "    gnomo()"
   ]
  },
  {
   "cell_type": "code",
   "execution_count": null,
   "id": "26190e38",
   "metadata": {},
   "outputs": [],
   "source": [
    "def metri_a_piedi(metri):\n",
    "    return metri*3.28084\n",
    "def piedi_a_metri(piedi):\n",
    "    return piedi/3.28084\n",
    "def chilogrammi_a_libbre(chilogrammi):\n",
    "    return chilogrammi*2.20462\n",
    "def libbre_a_chilogrammi(libbre):\n",
    "    return libbre/2.20462\n",
    "\n",
    "def selezione(scelta):\n",
    "if scelta == \"metri\":\n",
    "    valore=float(input(\"Inserisci il valore in metri: \"))\n",
    "    print(f\"{valore: .3f} metri corrispondono a)"
   ]
  },
  {
   "cell_type": "code",
   "execution_count": null,
   "id": "405c5ba8",
   "metadata": {},
   "outputs": [
    {
     "name": "stdout",
     "output_type": "stream",
     "text": [
      "benvenuto  nell'Orologio Mondiale!\n",
      "Città disponibili:\n",
      "New York\n",
      "Londra\n",
      "Tokyo\n",
      "Sydney\n",
      "Rio de Janeiro\n",
      "Inserisci il nome della città per visualizzare l'ora (o 'esci' per uscire): Tokyo\n",
      "L'ora corrente a Tokyo è: 15:06:24\n",
      "Città disponibili:\n",
      "New York\n",
      "Londra\n",
      "Tokyo\n",
      "Sydney\n",
      "Rio de Janeiro\n"
     ]
    }
   ],
   "source": [
    "from datetime import datetime\n",
    "import pytz\n",
    "\n",
    "print(\"benvenuto  nell'Orologio Mondiale!\")\n",
    "\n",
    "citta_fusi_orari = {\n",
    "    \"New York\": \"America/New_York\",\n",
    "    \"Londra\": \"Europe/London\",\n",
    "    \"Tokyo\": \"Asia/Tokyo\",\n",
    "    \"Sydney\": \"Australia/Sydney\",\n",
    "    \"Rio de Janeiro\": \"America/Sao_Paulo\",\n",
    "}\n",
    "while True:\n",
    "    print(\"Città disponibili:\")\n",
    "    for citta in citta_fusi_orari.keys():\n",
    "        print(citta)\n",
    "\n",
    "    scelta_citta = input(\"Inserisci il nome della città per visualizzare l'ora (o 'esci' per uscire): \").strip()\n",
    "    if scelta_citta.lower() == 'esci':\n",
    "        break\n",
    "\n",
    "    if scelta_citta in citta_fusi_orari.keys():\n",
    "        fuso_orario = pytz.timezone(citta_fusi_orari[scelta_citta])\n",
    "        ora_corrente = datetime.now(fuso_orario)\n",
    "        print(f\"L'ora corrente a {scelta_citta} è: {ora_corrente.strftime('%H:%M:%S')}\")\n",
    "    else:\n",
    "        print(\"città non valida. Riporva.\")"
   ]
  },
  {
   "cell_type": "code",
   "execution_count": null,
   "id": "4e6307fd",
   "metadata": {},
   "outputs": [],
   "source": []
  }
 ],
 "metadata": {
  "kernelspec": {
   "display_name": "Python 3 (ipykernel)",
   "language": "python",
   "name": "python3"
  },
  "language_info": {
   "codemirror_mode": {
    "name": "ipython",
    "version": 3
   },
   "file_extension": ".py",
   "mimetype": "text/x-python",
   "name": "python",
   "nbconvert_exporter": "python",
   "pygments_lexer": "ipython3",
   "version": "3.11.4"
  }
 },
 "nbformat": 4,
 "nbformat_minor": 5
}
